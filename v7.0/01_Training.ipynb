{
 "cells": [
  {
   "cell_type": "markdown",
   "metadata": {},
   "source": [
    "## osumapper #1: Map Dataset Reader\n",
    "\n",
    "Read the map list and convert maps to formats Python can use."
   ]
  },
  {
   "cell_type": "markdown",
   "metadata": {},
   "source": [
    "### IMPORTANT!! First fill \"maplist.txt\" with paths of .osu files you want to train with !!!\n",
    "\n",
    "You can use the maplist generator by running `node gen_maplist` under this directory.\n",
    "\n",
    "**Tip:** Don't train with your every single map. Find good maps (maps you like) with relatively similar difficulty.\n",
    "\n",
    "After that, run the grid below to convert the maps."
   ]
  },
  {
   "cell_type": "code",
   "execution_count": 1,
   "metadata": {
    "scrolled": true
   },
   "outputs": [
    {
     "name": "stdout",
     "output_type": "stream",
     "text": [
      "Number of filtered maps: 124\n",
      "Error: ENOENT: no such file or directory, open\n",
      "    at Object.openSync (node:fs:585:3)\n",
      "    at Object.readFileSync (node:fs:453:35)\n",
      "    at main (c:\\Users\\Utilisateur\\Desktop\\codeStuff\\osu_AI\\osumapper\\v7.0\\load_map.js:1395:26)\n",
      "    at Object.<anonymous> (c:\\Users\\Utilisateur\\Desktop\\codeStuff\\osu_AI\\osumapper\\v7.0\\load_map.js:1484:1)\n",
      "    at Module._compile (node:internal/modules/cjs/loader:1101:14)\n",
      "    at Object.Module._extensions..js (node:internal/modules/cjs/loader:1153:10)\n",
      "    at Module.load (node:internal/modules/cjs/loader:981:32)\n",
      "    at Function.Module._load (node:internal/modules/cjs/loader:822:12)\n",
      "    at Function.executeUserEntryPoint [as runMain] (node:internal/modules/run_main:81:12)\n",
      "    at node:internal/main/run_main_module:17:47 {\n",
      "  errno: -4058,\n",
      "  syscall: 'open',\n",
      "  code: 'ENOENT'\n",
      "}\n",
      "\n",
      "Error on #0, path = , error = Map Convert Failure\n",
      "Map data #1 saved! time = 3.707242965698242 secs\n",
      "Map data #2 saved! time = 2.2592601776123047 secs\n",
      "Map data #3 saved! time = 2.2365975379943848 secs\n",
      "Map data #4 saved! time = 2.2417843341827393 secs\n",
      "Map data #5 saved! time = 2.3093276023864746 secs\n",
      "Map data #6 saved! time = 2.3397953510284424 secs\n",
      "Map data #7 saved! time = 2.624239683151245 secs\n",
      "Map data #8 saved! time = 2.6969306468963623 secs\n",
      "Map data #9 saved! time = 2.682168483734131 secs\n",
      "Map data #10 saved! time = 2.5067262649536133 secs\n",
      "Map data #11 saved! time = 2.2304022312164307 secs\n",
      "Map data #12 saved! time = 2.1297152042388916 secs\n",
      "Map data #13 saved! time = 2.2540740966796875 secs\n",
      "Map data #14 saved! time = 2.2867555618286133 secs\n",
      "Map data #15 saved! time = 2.1972157955169678 secs\n",
      "Map data #16 saved! time = 2.2104716300964355 secs\n",
      "Map data #17 saved! time = 2.273148536682129 secs\n",
      "Map data #18 saved! time = 2.2833855152130127 secs\n",
      "Map data #19 saved! time = 2.2161810398101807 secs\n",
      "Map data #20 saved! time = 2.202258348464966 secs\n",
      "Map data #21 saved! time = 2.204345226287842 secs\n",
      "Map data #22 saved! time = 2.2992212772369385 secs\n",
      "Map data #23 saved! time = 2.3139870166778564 secs\n",
      "Map data #24 saved! time = 1.6979787349700928 secs\n",
      "Map data #25 saved! time = 1.6781988143920898 secs\n",
      "Map data #26 saved! time = 1.6806952953338623 secs\n",
      "Map data #27 saved! time = 1.6719210147857666 secs\n",
      "Map data #28 saved! time = 1.7234721183776855 secs\n",
      "Map data #29 saved! time = 2.438894510269165 secs\n",
      "Map data #30 saved! time = 2.2893009185791016 secs\n",
      "Map data #31 saved! time = 3.5272698402404785 secs\n",
      "Map data #32 saved! time = 3.595550298690796 secs\n",
      "Map data #33 saved! time = 3.7914352416992188 secs\n",
      "Map data #34 saved! time = 3.530754327774048 secs\n",
      "Map data #35 saved! time = 2.387244462966919 secs\n",
      "Map data #36 saved! time = 1.740527629852295 secs\n",
      "Map data #37 saved! time = 2.4001927375793457 secs\n",
      "Map data #38 saved! time = 2.3270180225372314 secs\n",
      "Map data #39 saved! time = 1.850019931793213 secs\n",
      "Map data #40 saved! time = 1.6607954502105713 secs\n",
      "Map data #41 saved! time = 1.68040132522583 secs\n",
      "Map data #42 saved! time = 1.6877670288085938 secs\n",
      "Map data #43 saved! time = 1.670670986175537 secs\n",
      "Map data #44 saved! time = 1.6564955711364746 secs\n",
      "Map data #45 saved! time = 2.134169578552246 secs\n",
      "Map data #46 saved! time = 2.4756879806518555 secs\n",
      "Map data #47 saved! time = 2.664271354675293 secs\n",
      "Map data #48 saved! time = 2.699455499649048 secs\n",
      "Map data #49 saved! time = 2.603752851486206 secs\n",
      "Map data #50 saved! time = 2.736696481704712 secs\n",
      "Map data #51 saved! time = 2.4761440753936768 secs\n",
      "Map data #52 saved! time = 2.5292694568634033 secs\n",
      "Map data #53 saved! time = 1.7838630676269531 secs\n",
      "Map data #54 saved! time = 1.8867321014404297 secs\n",
      "Map data #55 saved! time = 1.8753364086151123 secs\n",
      "Map data #56 saved! time = 1.8279316425323486 secs\n",
      "Map data #57 saved! time = 1.7749958038330078 secs\n",
      "Map data #58 saved! time = 2.198103189468384 secs\n",
      "Map data #59 saved! time = 2.2012972831726074 secs\n",
      "Map data #60 saved! time = 2.1144535541534424 secs\n",
      "Map data #61 saved! time = 2.0196926593780518 secs\n",
      "Map data #62 saved! time = 2.0454986095428467 secs\n",
      "Map data #63 saved! time = 3.1490328311920166 secs\n",
      "Map data #64 saved! time = 3.503927707672119 secs\n",
      "Map data #65 saved! time = 2.5243279933929443 secs\n",
      "Map data #66 saved! time = 1.7863683700561523 secs\n",
      "Map data #67 saved! time = 1.1487693786621094 secs\n",
      "Map data #68 saved! time = 1.5343821048736572 secs\n",
      "Map data #69 saved! time = 2.265270948410034 secs\n",
      "Map data #70 saved! time = 2.678779363632202 secs\n",
      "Map data #71 saved! time = 3.089935541152954 secs\n",
      "Map data #72 saved! time = 2.8752188682556152 secs\n",
      "Map data #73 saved! time = 2.9035913944244385 secs\n",
      "Map data #74 saved! time = 3.272585868835449 secs\n",
      "Map data #75 saved! time = 2.693411111831665 secs\n",
      "Map data #76 saved! time = 2.3488106727600098 secs\n",
      "Map data #77 saved! time = 2.2860612869262695 secs\n",
      "Map data #78 saved! time = 2.1139402389526367 secs\n",
      "Map data #79 saved! time = 2.122264862060547 secs\n",
      "Map data #80 saved! time = 2.2344675064086914 secs\n",
      "Map data #81 saved! time = 2.009878158569336 secs\n",
      "Map data #82 saved! time = 2.0181825160980225 secs\n",
      "Map data #83 saved! time = 2.0901665687561035 secs\n",
      "Map data #84 saved! time = 1.9405653476715088 secs\n",
      "Map data #85 saved! time = 1.993253231048584 secs\n",
      "Map data #86 saved! time = 2.021390438079834 secs\n",
      "Map data #87 saved! time = 2.129020929336548 secs\n",
      "Map data #88 saved! time = 2.2407426834106445 secs\n",
      "Map data #89 saved! time = 2.187011957168579 secs\n",
      "Map data #90 saved! time = 2.162566900253296 secs\n",
      "Map data #91 saved! time = 2.1011853218078613 secs\n",
      "Map data #92 saved! time = 2.044132947921753 secs\n",
      "Map data #93 saved! time = 2.842444896697998 secs\n",
      "Map data #94 saved! time = 1.580476999282837 secs\n",
      "Map data #95 saved! time = 1.592773199081421 secs\n",
      "Map data #96 saved! time = 1.6367945671081543 secs\n",
      "Map data #97 saved! time = 3.239342212677002 secs\n",
      "Map data #98 saved! time = 2.812241315841675 secs\n",
      "Map data #99 saved! time = 3.17875599861145 secs\n",
      "Map data #100 saved! time = 2.7697484493255615 secs\n",
      "Map data #101 saved! time = 3.0132083892822266 secs\n",
      "Map data #102 saved! time = 2.92366623878479 secs\n",
      "Map data #103 saved! time = 2.770146369934082 secs\n",
      "Map data #104 saved! time = 2.738450050354004 secs\n",
      "Map data #105 saved! time = 2.6207163333892822 secs\n",
      "Map data #106 saved! time = 2.5892961025238037 secs\n",
      "Map data #107 saved! time = 2.6987149715423584 secs\n",
      "Map data #108 saved! time = 2.712247133255005 secs\n",
      "Map data #109 saved! time = 2.667891263961792 secs\n",
      "Map data #110 saved! time = 2.041393518447876 secs\n",
      "Map data #111 saved! time = 1.9960246086120605 secs\n",
      "Map data #112 saved! time = 1.933474063873291 secs\n",
      "Map data #113 saved! time = 2.0572474002838135 secs\n",
      "Map data #114 saved! time = 1.9346237182617188 secs\n",
      "Map data #115 saved! time = 1.900801181793213 secs\n",
      "Map data #116 saved! time = 2.8931188583374023 secs\n",
      "Map data #117 saved! time = 2.815972089767456 secs\n",
      "Map data #118 saved! time = 2.8921592235565186 secs\n",
      "Map data #119 saved! time = 2.1261303424835205 secs\n",
      "Map data #120 saved! time = 2.8860151767730713 secs\n",
      "Map data #121 saved! time = 2.4487125873565674 secs\n",
      "Map data #122 saved! time = 6.316282510757446 secs\n",
      "Map data #123 saved! time = 1.8939423561096191 secs\n"
     ]
    }
   ],
   "source": [
    "from act_data_prep import *\n",
    "\n",
    "# for osu!mania use this instead of above\n",
    "# from mania_act_data_prep import * \n",
    "\n",
    "step1_load_maps();\n",
    "\n",
    "# If any map causes bug please tell me!! https://discord.gg/npmSy7K"
   ]
  },
  {
   "cell_type": "markdown",
   "metadata": {},
   "source": [
    "## osumapper #2: rhythm model\n",
    "\n",
    "Train a rhythm model that decides where to place circles/sliders based on music.\n",
    "\n",
    "If you're using GPU and it reports a memory error, try setting batch_size parameter to a smaller value (that GPU can handle)."
   ]
  },
  {
   "cell_type": "code",
   "execution_count": null,
   "metadata": {},
   "outputs": [],
   "source": [
    "from act_train_rhythm import *;\n",
    "\n",
    "train_params_p2 = {\n",
    "    \"divisor\" : 4,\n",
    "    \"train_epochs\" : 16,\n",
    "    \"train_batch_size\" : None, # Default is 32 or based on machine specs\n",
    "    \"plot_history\" : True,\n",
    "    \"too_many_maps_threshold\" : 200,\n",
    "    \"train_epochs_many_maps\" : 6,\n",
    "    \"data_split_count\" : 80\n",
    "};\n",
    "model_p2 = step2_build_model()"
   ]
  },
  {
   "cell_type": "markdown",
   "metadata": {},
   "source": [
    "Train the model and evaluate.<br>\n",
    "is_note_start accuracy should be about 0.8 to 0.9 based on my tests, others should be lower.\n",
    "\n",
    "**Note:** I changed the metrics from F1 to AUC in this version!! 0.5=guessing 1=perfect for AUC"
   ]
  },
  {
   "cell_type": "code",
   "execution_count": null,
   "metadata": {},
   "outputs": [],
   "source": [
    "model_p2 = step2_train_model(model_p2, train_params_p2)\n",
    "step2_evaluate(model_p2)"
   ]
  },
  {
   "cell_type": "markdown",
   "metadata": {},
   "source": [
    "Done! now save the model to the disk."
   ]
  },
  {
   "cell_type": "code",
   "execution_count": null,
   "metadata": {},
   "outputs": [],
   "source": [
    "step2_save(model_p2)"
   ]
  },
  {
   "cell_type": "markdown",
   "metadata": {},
   "source": [
    "## osumapper #3: flow dataset construction\n",
    "\n",
    "Construct a dataset for the map flow generator."
   ]
  },
  {
   "cell_type": "code",
   "execution_count": null,
   "metadata": {},
   "outputs": [],
   "source": [
    "from act_flow_ds import *;\n",
    "\n",
    "flow_dataset_params = step3_set_params(note_group_size=10, step_size=5);\n",
    "maps_flow = step3_read_maps_flow(flow_dataset_params);\n",
    "step3_save_flow_dataset(maps_flow);\n",
    "\n",
    "# hitsounds dataset, only for taiko maps\n",
    "# maps_hs_af, maps_hs = step3_read_maps_hs(flow_dataset_params);\n",
    "# step3_save_hs_dataset(maps_hs_af, maps_hs);\n",
    "\n",
    "# pattern dataset, only for mania (remove the flow part for mania)\n",
    "# data = step3_read_maps_pattern([]);\n",
    "# step3_save_pattern_dataset(data);"
   ]
  },
  {
   "cell_type": "markdown",
   "metadata": {},
   "source": [
    "That's it! The models are trained. Start making a new map with the other notebook."
   ]
  }
 ],
 "metadata": {
  "kernelspec": {
   "display_name": "Python 3.10.0 64-bit",
   "language": "python",
   "name": "python3"
  },
  "language_info": {
   "codemirror_mode": {
    "name": "ipython",
    "version": 3
   },
   "file_extension": ".py",
   "mimetype": "text/x-python",
   "name": "python",
   "nbconvert_exporter": "python",
   "pygments_lexer": "ipython3",
   "version": "3.10.0"
  },
  "vscode": {
   "interpreter": {
    "hash": "a3d0e8e0c817ae3c7f78f66b04bafeb63523a0a50e6405ec1b074461715681e4"
   }
  }
 },
 "nbformat": 4,
 "nbformat_minor": 2
}
